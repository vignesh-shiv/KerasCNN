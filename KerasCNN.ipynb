{
 "cells": [
  {
   "cell_type": "markdown",
   "metadata": {},
   "source": [
    "# CONVOLUTIONAL NUERAL NETWORK - MNIST - KERAS"
   ]
  },
  {
   "cell_type": "markdown",
   "metadata": {},
   "source": [
    "This is a simple CNN architecture to classify the MNIST dataset to acheive an accuracy of 99%+ accuracy. It is a perfect starter dataset to work on and get used to things.\n",
    "\n",
    "Credits : Yassine Ghouzam, PhD <br>\n",
    "Link    : https://www.kaggle.com/yassineghouzam/introduction-to-cnn-keras-0-997-top-6/data#Introduction-to-CNN-Keras---Acc-0.997-(top-8%)     <br>\n",
    "Level   : Beginner"
   ]
  },
  {
   "cell_type": "markdown",
   "metadata": {},
   "source": [
    "## 1) Import Packages"
   ]
  },
  {
   "cell_type": "code",
   "execution_count": 1,
   "metadata": {},
   "outputs": [
    {
     "name": "stderr",
     "output_type": "stream",
     "text": [
      "Using TensorFlow backend.\n"
     ]
    }
   ],
   "source": [
    "import pandas as pd\n",
    "import numpy as np\n",
    "import matplotlib.pyplot as plt\n",
    "import matplotlib.image as mpimg\n",
    "import seaborn as sns\n",
    "%matplotlib inline\n",
    "\n",
    "np.random.seed(2)\n",
    "\n",
    "from sklearn.model_selection import train_test_split\n",
    "from sklearn.metrics import confusion_matrix\n",
    "import itertools\n",
    "\n",
    "from keras.utils.np_utils import to_categorical\n",
    "from keras.models import Sequential\n",
    "from keras.layers import Dense,Dropout,Flatten,Conv2D,MaxPool2D\n",
    "from keras.optimizers import RMSprop\n",
    "from keras.preprocessing.image import ImageDataGenerator\n",
    "from keras.callbacks import ReduceLROnPlateau\n",
    "\n",
    "sns.set(style='white',context='notebook',palette='deep')"
   ]
  },
  {
   "cell_type": "markdown",
   "metadata": {},
   "source": [
    "## 2) Read the dataset (Train and Test)"
   ]
  },
  {
   "cell_type": "code",
   "execution_count": 2,
   "metadata": {},
   "outputs": [],
   "source": [
    "train = pd.read_csv(\"C:/Users/Vignesh/Desktop/Codes/KerasCNN/Data/train.csv\")\n",
    "test = pd.read_csv(\"C:/Users/Vignesh/Desktop/Codes/KerasCNN/Data/test.csv\")"
   ]
  },
  {
   "cell_type": "code",
   "execution_count": 3,
   "metadata": {},
   "outputs": [
    {
     "data": {
      "text/plain": [
       "1    4684\n",
       "7    4401\n",
       "3    4351\n",
       "9    4188\n",
       "2    4177\n",
       "6    4137\n",
       "0    4132\n",
       "4    4072\n",
       "8    4063\n",
       "5    3795\n",
       "Name: label, dtype: int64"
      ]
     },
     "execution_count": 3,
     "metadata": {},
     "output_type": "execute_result"
    },
    {
     "data": {
      "image/png": "[encoded data removed]",
      "text/plain": [
       "<Figure size 432x288 with 1 Axes>"
      ]
     },
     "metadata": {
      "needs_background": "light"
     },
     "output_type": "display_data"
    }
   ],
   "source": [
    "Y_train = train[\"label\"]\n",
    "X_train = train.drop(labels = [\"label\"],axis=1)\n",
    "del train\n",
    "\n",
    "g=sns.countplot(Y_train)\n",
    "Y_train.value_counts()"
   ]
  },
  {
   "cell_type": "markdown",
   "metadata": {},
   "source": [
    "## 3) Check for Nulls"
   ]
  },
  {
   "cell_type": "code",
   "execution_count": 4,
   "metadata": {},
   "outputs": [
    {
     "data": {
      "text/plain": [
       "count       784\n",
       "unique        1\n",
       "top       False\n",
       "freq        784\n",
       "dtype: object"
      ]
     },
     "execution_count": 4,
     "metadata": {},
     "output_type": "execute_result"
    }
   ],
   "source": [
    "X_train.isnull().any().describe()"
   ]
  },
  {
   "cell_type": "code",
   "execution_count": 5,
   "metadata": {},
   "outputs": [
    {
     "data": {
      "text/plain": [
       "count       784\n",
       "unique        1\n",
       "top       False\n",
       "freq        784\n",
       "dtype: object"
      ]
     },
     "execution_count": 5,
     "metadata": {},
     "output_type": "execute_result"
    }
   ],
   "source": [
    "test.isnull().any().describe()"
   ]
  },
  {
   "cell_type": "markdown",
   "metadata": {},
   "source": [
    "## 4) Data Preprocessing "
   ]
  },
  {
   "cell_type": "code",
   "execution_count": 6,
   "metadata": {},
   "outputs": [],
   "source": [
    "X_train=X_train/255.0\n",
    "test=test/255.0"
   ]
  },
  {
   "cell_type": "code",
   "execution_count": 7,
   "metadata": {},
   "outputs": [],
   "source": [
    "X_train=X_train.values.reshape(-1,28,28,1)\n",
    "test=test.values.reshape(-1,28,28,1)"
   ]
  },
  {
   "cell_type": "code",
   "execution_count": 8,
   "metadata": {},
   "outputs": [],
   "source": [
    "Y_train = to_categorical(Y_train, num_classes=10)"
   ]
  },
  {
   "cell_type": "code",
   "execution_count": 9,
   "metadata": {},
   "outputs": [],
   "source": [
    "random_seed = 2"
   ]
  },
  {
   "cell_type": "code",
   "execution_count": 10,
   "metadata": {},
   "outputs": [],
   "source": [
    "X_train, X_val, Y_train, Y_val = train_test_split(X_train, Y_train, test_size = 0.1, random_state=random_seed)"
   ]
  },
  {
   "cell_type": "code",
   "execution_count": 11,
   "metadata": {},
   "outputs": [
    {
     "data": {
      "text/plain": [
       "<matplotlib.image.AxesImage at 0x1b391481048>"
      ]
     },
     "execution_count": 11,
     "metadata": {},
     "output_type": "execute_result"
    },
    {
     "data": {
      "image/png": "[encoded data removed]",
      "text/plain": [
       "<Figure size 432x288 with 1 Axes>"
      ]
     },
     "metadata": {
      "needs_background": "light"
     },
     "output_type": "display_data"
    }
   ],
   "source": [
    "plt.imshow(X_train[0][:,:,0])"
   ]
  },
  {
   "cell_type": "markdown",
   "metadata": {},
   "source": [
    "## 5) Define the Model using Keras-Sequential"
   ]
  },
  {
   "cell_type": "code",
   "execution_count": 12,
   "metadata": {},
   "outputs": [
    {
     "name": "stdout",
     "output_type": "stream",
     "text": [
      "WARNING:tensorflow:From C:\\Users\\Vignesh\\Anaconda3\\lib\\site-packages\\tensorflow\\python\\framework\\op_def_library.py:263: colocate_with (from tensorflow.python.framework.ops) is deprecated and will be removed in a future version.\n",
      "Instructions for updating:\n",
      "Colocations handled automatically by placer.\n",
      "WARNING:tensorflow:From C:\\Users\\Vignesh\\Anaconda3\\lib\\site-packages\\keras\\backend\\tensorflow_backend.py:3445: calling dropout (from tensorflow.python.ops.nn_ops) with keep_prob is deprecated and will be removed in a future version.\n",
      "Instructions for updating:\n",
      "Please use `rate` instead of `keep_prob`. Rate should be set to `rate = 1 - keep_prob`.\n"
     ]
    }
   ],
   "source": [
    "model = Sequential()\n",
    "\n",
    "model.add(Conv2D(filters=32, kernel_size=(5,5), padding='Same', activation='relu', input_shape=(28,28,1)))\n",
    "model.add(Conv2D(filters=32, kernel_size=(5,5), padding='Same', activation='relu'))\n",
    "model.add(MaxPool2D(pool_size=(2,2)))\n",
    "model.add(Dropout(0.25))\n",
    "model.add(Conv2D(filters=64, kernel_size=(3,3), padding='Same', activation='relu'))\n",
    "model.add(Conv2D(filters=64, kernel_size=(3,3), padding='Same', activation='relu'))\n",
    "model.add(MaxPool2D(pool_size=(2,2), strides=(2,2)))\n",
    "model.add(Dropout(0.25))\n",
    "model.add(Flatten())\n",
    "model.add(Dense(256, activation='relu'))\n",
    "model.add(Dropout(0.5))\n",
    "model.add(Dense(10, activation='softmax'))"
   ]
  },
  {
   "cell_type": "markdown",
   "metadata": {},
   "source": [
    "## 6) Define the Optimizer, Loss, Metrics, Learning Rate Redn., Epoch and Mini-batch size"
   ]
  },
  {
   "cell_type": "code",
   "execution_count": 13,
   "metadata": {},
   "outputs": [],
   "source": [
    "optimizer= RMSprop(lr=0.001, rho=0.9, epsilon=1e-08, decay=0.0)"
   ]
  },
  {
   "cell_type": "code",
   "execution_count": 14,
   "metadata": {},
   "outputs": [],
   "source": [
    "model.compile(optimizer=optimizer, loss=\"categorical_crossentropy\", metrics=[\"accuracy\"])"
   ]
  },
  {
   "cell_type": "code",
   "execution_count": 15,
   "metadata": {},
   "outputs": [],
   "source": [
    "learning_rate_reduction = ReduceLROnPlateau(monitor='val_acc', \n",
    "                                            patience=3, \n",
    "                                            verbose=1, \n",
    "                                            factor=0.5, \n",
    "                                            min_lr=0.00001)"
   ]
  },
  {
   "cell_type": "code",
   "execution_count": 16,
   "metadata": {},
   "outputs": [],
   "source": [
    "epochs = 30 # Turn epochs to 30 to get 0.9967 accuracy\n",
    "batch_size = 86"
   ]
  },
  {
   "cell_type": "markdown",
   "metadata": {},
   "source": [
    "## 7) Data Augmentation"
   ]
  },
  {
   "cell_type": "code",
   "execution_count": 17,
   "metadata": {},
   "outputs": [],
   "source": [
    "datagen=ImageDataGenerator(featurewise_center=False, samplewise_center=False, featurewise_std_normalization=False, samplewise_std_normalization=False, zca_whitening=False, rotation_range=10, zoom_range=0.1, width_shift_range=0.1, height_shift_range=0.1, horizontal_flip=False, vertical_flip=False)\n",
    "datagen.fit(X_train)"
   ]
  },
  {
   "cell_type": "markdown",
   "metadata": {},
   "source": [
    "## 8) Training the Model"
   ]
  },
  {
   "cell_type": "code",
   "execution_count": 18,
   "metadata": {
    "scrolled": false
   },
   "outputs": [
    {
     "name": "stdout",
     "output_type": "stream",
     "text": [
      "WARNING:tensorflow:From C:\\Users\\Vignesh\\Anaconda3\\lib\\site-packages\\tensorflow\\python\\ops\\math_ops.py:3066: to_int32 (from tensorflow.python.ops.math_ops) is deprecated and will be removed in a future version.\n",
      "Instructions for updating:\n",
      "Use tf.cast instead.\n",
      "Epoch 1/30\n",
      "439/439 [==============================] - 180s 410ms/step - loss: 0.4137 - acc: 0.8696 - val_loss: 0.0818 - val_acc: 0.9745\n",
      "Epoch 2/30\n",
      "439/439 [==============================] - 183s 418ms/step - loss: 0.1316 - acc: 0.9601 - val_loss: 0.0436 - val_acc: 0.9869\n",
      "Epoch 3/30\n",
      "439/439 [==============================] - 199s 452ms/step - loss: 0.0960 - acc: 0.9719 - val_loss: 0.0327 - val_acc: 0.9895\n",
      "Epoch 4/30\n",
      "439/439 [==============================] - 191s 435ms/step - loss: 0.0793 - acc: 0.9768 - val_loss: 0.0297 - val_acc: 0.9924\n",
      "Epoch 5/30\n",
      "439/439 [==============================] - 205s 466ms/step - loss: 0.0714 - acc: 0.9795 - val_loss: 0.0288 - val_acc: 0.9907\n",
      "Epoch 6/30\n",
      "439/439 [==============================] - 189s 430ms/step - loss: 0.0675 - acc: 0.9804 - val_loss: 0.0253 - val_acc: 0.9914\n",
      "Epoch 7/30\n",
      "439/439 [==============================] - 200s 455ms/step - loss: 0.0600 - acc: 0.9817 - val_loss: 0.0444 - val_acc: 0.9867\n",
      "\n",
      "Epoch 00007: ReduceLROnPlateau reducing learning rate to 0.0005000000237487257.\n",
      "Epoch 8/30\n",
      "439/439 [==============================] - 205s 467ms/step - loss: 0.0461 - acc: 0.9869 - val_loss: 0.0216 - val_acc: 0.9938\n",
      "Epoch 9/30\n",
      "439/439 [==============================] - 205s 468ms/step - loss: 0.0437 - acc: 0.9876 - val_loss: 0.0227 - val_acc: 0.9950\n",
      "Epoch 10/30\n",
      "439/439 [==============================] - 204s 465ms/step - loss: 0.0458 - acc: 0.9873 - val_loss: 0.0189 - val_acc: 0.9940\n",
      "Epoch 11/30\n",
      "439/439 [==============================] - 205s 468ms/step - loss: 0.0452 - acc: 0.9872 - val_loss: 0.0172 - val_acc: 0.9938\n",
      "Epoch 12/30\n",
      "439/439 [==============================] - 2973s 7s/step - loss: 0.0442 - acc: 0.9877 - val_loss: 0.0210 - val_acc: 0.9940\n",
      "\n",
      "Epoch 00012: ReduceLROnPlateau reducing learning rate to 0.0002500000118743628.\n",
      "Epoch 13/30\n",
      "439/439 [==============================] - 205s 466ms/step - loss: 0.0361 - acc: 0.9896 - val_loss: 0.0178 - val_acc: 0.9943\n",
      "Epoch 14/30\n",
      "439/439 [==============================] - 199s 452ms/step - loss: 0.0351 - acc: 0.9897 - val_loss: 0.0195 - val_acc: 0.9943\n",
      "Epoch 15/30\n",
      "439/439 [==============================] - 184s 420ms/step - loss: 0.0330 - acc: 0.9899 - val_loss: 0.0159 - val_acc: 0.9950\n",
      "\n",
      "Epoch 00015: ReduceLROnPlateau reducing learning rate to 0.0001250000059371814.\n",
      "Epoch 16/30\n",
      "439/439 [==============================] - 186s 423ms/step - loss: 0.0307 - acc: 0.9908 - val_loss: 0.0179 - val_acc: 0.9955\n",
      "Epoch 17/30\n",
      "439/439 [==============================] - 184s 420ms/step - loss: 0.0303 - acc: 0.9915 - val_loss: 0.0166 - val_acc: 0.9955\n",
      "Epoch 18/30\n",
      "439/439 [==============================] - 195s 444ms/step - loss: 0.0311 - acc: 0.9912 - val_loss: 0.0176 - val_acc: 0.9940\n",
      "Epoch 19/30\n",
      "439/439 [==============================] - 193s 439ms/step - loss: 0.0308 - acc: 0.9905 - val_loss: 0.0166 - val_acc: 0.9950\n",
      "\n",
      "Epoch 00019: ReduceLROnPlateau reducing learning rate to 6.25000029685907e-05.\n",
      "Epoch 20/30\n",
      "439/439 [==============================] - 194s 442ms/step - loss: 0.0287 - acc: 0.9913 - val_loss: 0.0174 - val_acc: 0.9948\n",
      "Epoch 21/30\n",
      "439/439 [==============================] - 203s 462ms/step - loss: 0.0277 - acc: 0.9917 - val_loss: 0.0157 - val_acc: 0.9957\n",
      "Epoch 22/30\n",
      "439/439 [==============================] - 199s 453ms/step - loss: 0.0312 - acc: 0.9912 - val_loss: 0.0174 - val_acc: 0.9950\n",
      "Epoch 23/30\n",
      "439/439 [==============================] - 189s 431ms/step - loss: 0.0275 - acc: 0.9912 - val_loss: 0.0177 - val_acc: 0.9948\n",
      "Epoch 24/30\n",
      "439/439 [==============================] - 207s 472ms/step - loss: 0.0277 - acc: 0.9921 - val_loss: 0.0171 - val_acc: 0.9952\n",
      "\n",
      "Epoch 00024: ReduceLROnPlateau reducing learning rate to 3.125000148429535e-05.\n",
      "Epoch 25/30\n",
      "439/439 [==============================] - 206s 470ms/step - loss: 0.0274 - acc: 0.9917 - val_loss: 0.0175 - val_acc: 0.9952\n",
      "Epoch 26/30\n",
      "439/439 [==============================] - 203s 464ms/step - loss: 0.0301 - acc: 0.9912 - val_loss: 0.0175 - val_acc: 0.9948\n",
      "Epoch 27/30\n",
      "439/439 [==============================] - 202s 459ms/step - loss: 0.0267 - acc: 0.9918 - val_loss: 0.0177 - val_acc: 0.9948\n",
      "\n",
      "Epoch 00027: ReduceLROnPlateau reducing learning rate to 1.5625000742147677e-05.\n",
      "Epoch 28/30\n",
      "439/439 [==============================] - 51688s 118s/step - loss: 0.0274 - acc: 0.9922 - val_loss: 0.0168 - val_acc: 0.9948\n",
      "Epoch 29/30\n",
      "439/439 [==============================] - 218s 497ms/step - loss: 0.0264 - acc: 0.9918 - val_loss: 0.0171 - val_acc: 0.9948\n",
      "Epoch 30/30\n",
      "439/439 [==============================] - 203s 463ms/step - loss: 0.0273 - acc: 0.9922 - val_loss: 0.0179 - val_acc: 0.9948\n",
      "\n",
      "Epoch 00030: ReduceLROnPlateau reducing learning rate to 1e-05.\n"
     ]
    }
   ],
   "source": [
    "history = model.fit_generator(datagen.flow(X_train, Y_train, batch_size=batch_size),\n",
    "                              epochs=epochs,validation_data=(X_val,Y_val),\n",
    "                              verbose=1,steps_per_epoch=X_train.shape[0] // batch_size,\n",
    "                              callbacks=[learning_rate_reduction])\n"
   ]
  },
  {
   "cell_type": "markdown",
   "metadata": {},
   "source": [
    "## 9) Plotting the Loss and Accuracy"
   ]
  },
  {
   "cell_type": "code",
   "execution_count": 21,
   "metadata": {},
   "outputs": [
    {
     "data": {
      "image/png": "[encoded data removed]",
      "text/plain": [
       "<Figure size 432x288 with 2 Axes>"
      ]
     },
     "metadata": {
      "needs_background": "light"
     },
     "output_type": "display_data"
    }
   ],
   "source": [
    "fig, ax = plt.subplots(2,1)\n",
    "ax[0].plot(history.history['loss'],color='b',label='Training loss')\n",
    "ax[0].plot(history.history['val_loss'],color='r',label='validation loss',axes=ax[0])\n",
    "legend=ax[0].legend(loc='best',shadow=True)\n",
    "\n",
    "ax[1].plot(history.history['acc'],color='b',label='Training accuracy')\n",
    "ax[1].plot(history.history['val_acc'],color='r',label='Validation Accuracy')\n",
    "legend=ax[1].legend(loc='best',shadow=True)"
   ]
  },
  {
   "cell_type": "markdown",
   "metadata": {},
   "source": [
    "## 10) Confusion Matrix"
   ]
  },
  {
   "cell_type": "code",
   "execution_count": 35,
   "metadata": {
    "scrolled": false
   },
   "outputs": [
    {
     "data": {
      "image/png": "[encoded data removed]",
      "text/plain": [
       "<Figure size 432x288 with 2 Axes>"
      ]
     },
     "metadata": {
      "needs_background": "light"
     },
     "output_type": "display_data"
    }
   ],
   "source": [
    "def plot_confusion_matrix(cm,classes,normalize=False,title='Confusion Matrix',cmap=plt.cm.Blues):\n",
    "    plt.imshow(cm,interpolation='nearest',cmap=cmap)\n",
    "    plt.title(title)\n",
    "    plt.colorbar()\n",
    "    tick_marks = np.arange(len(classes))\n",
    "    plt.xticks(tick_marks,classes,rotation=45)\n",
    "    plt.yticks(tick_marks,classes)\n",
    "    \n",
    "    if normalize:\n",
    "        cm= cm.astype('float')/cm.sum(axis=1)[:,np.newaxis]\n",
    "        \n",
    "    thresh=cm.max()/2.\n",
    "    for i,j in itertools.product(range(cm.shape[0]), range(cm.shape[1])):\n",
    "        plt.text(j,i,cm[i,j],horizontalalignment='center',color='white' if cm[i,j]>thresh else 'black')\n",
    "        \n",
    "        plt.tight_layout()\n",
    "        plt.ylabel('True label')\n",
    "        plt.xlabel('Predicted label')\n",
    "        \n",
    "Y_pred=model.predict(X_val)\n",
    "\n",
    "Y_pred_classes=np.argmax(Y_pred,axis=1)\n",
    "Y_true=np.argmax(Y_val,axis=1)\n",
    "\n",
    "confusion_mtx=confusion_matrix(Y_true,Y_pred_classes)\n",
    "plot_confusion_matrix(confusion_mtx,classes=range(10))"
   ]
  },
  {
   "cell_type": "markdown",
   "metadata": {},
   "source": [
    "## 11) Saving the Model"
   ]
  },
  {
   "cell_type": "code",
   "execution_count": 57,
   "metadata": {},
   "outputs": [],
   "source": [
    "model.save('KerasCNNmodel.h5')"
   ]
  },
  {
   "cell_type": "markdown",
   "metadata": {},
   "source": [
    "## 12) Analyzing Errors"
   ]
  },
  {
   "cell_type": "code",
   "execution_count": 65,
   "metadata": {},
   "outputs": [
    {
     "data": {
      "image/png": "[encoded data removed]",
      "text/plain": [
       "<Figure size 432x288 with 6 Axes>"
      ]
     },
     "metadata": {
      "needs_background": "light"
     },
     "output_type": "display_data"
    }
   ],
   "source": [
    "errors=(Y_pred_classes - Y_true !=0)\n",
    "\n",
    "Y_pred_classes_errors = Y_pred_classes[errors]\n",
    "Y_pred_errors = Y_pred[errors]\n",
    "Y_true_errors = Y_true[errors]\n",
    "X_val_errors  = X_val[errors]\n",
    "\n",
    "def display_errors(errors_index,img_errors,pred_errors,obs_errors):\n",
    "    n=0\n",
    "    nrows=2\n",
    "    ncols=3\n",
    "    fig,ax=plt.subplots(nrows,ncols,sharex=True,sharey=True)\n",
    "    \n",
    "    for row in range(nrows):\n",
    "        for col in range(ncols):\n",
    "            error = errors_index[n]\n",
    "            ax[row,col].imshow((img_errors[error]).reshape((28,28)))\n",
    "            ax[row,col].set_title(\"Predicted Label :{}\\nTrue Label :{}\".format(pred_errors[error],obs_errors[error]))\n",
    "            n+=1\n",
    "Y_pred_errors_prob = np.max(Y_pred_errors,axis=1)\n",
    "true_prob_errors = np.diagonal(np.take(Y_pred_errors,Y_true_errors,axis=1))\n",
    "delta_pred_true_errors=Y_pred_errors_prob - true_prob_errors\n",
    "sorted_dela_errors = np.argsort(delta_pred_true_errors)\n",
    "\n",
    "most_imposrtant_errors=sorted_dela_errors[-6:]\n",
    "\n",
    "display_errors(most_important_errors,X_val_errors,Y_pred_classes_errors,Y_true_errors)"
   ]
  },
  {
   "cell_type": "markdown",
   "metadata": {},
   "source": [
    "## 13) Saving Results into csv file"
   ]
  },
  {
   "cell_type": "code",
   "execution_count": 72,
   "metadata": {},
   "outputs": [],
   "source": [
    "results=model.predict(test)\n",
    "results=np.argmax(results,axis=1)\n",
    "results=pd.Series(results,name=\"Label\")"
   ]
  },
  {
   "cell_type": "code",
   "execution_count": 68,
   "metadata": {
    "scrolled": false
   },
   "outputs": [
    {
     "name": "stdout",
     "output_type": "stream",
     "text": [
      "0        2\n",
      "1        0\n",
      "2        9\n",
      "3        0\n",
      "4        3\n",
      "5        7\n",
      "6        0\n",
      "7        3\n",
      "8        0\n",
      "9        3\n",
      "10       5\n",
      "11       7\n",
      "12       4\n",
      "13       0\n",
      "14       4\n",
      "15       3\n",
      "16       3\n",
      "17       1\n",
      "18       9\n",
      "19       0\n",
      "20       9\n",
      "21       1\n",
      "22       1\n",
      "23       5\n",
      "24       7\n",
      "25       4\n",
      "26       2\n",
      "27       7\n",
      "28       4\n",
      "29       7\n",
      "        ..\n",
      "27970    5\n",
      "27971    0\n",
      "27972    4\n",
      "27973    8\n",
      "27974    0\n",
      "27975    3\n",
      "27976    6\n",
      "27977    0\n",
      "27978    1\n",
      "27979    9\n",
      "27980    3\n",
      "27981    1\n",
      "27982    1\n",
      "27983    0\n",
      "27984    4\n",
      "27985    5\n",
      "27986    2\n",
      "27987    2\n",
      "27988    9\n",
      "27989    6\n",
      "27990    7\n",
      "27991    6\n",
      "27992    1\n",
      "27993    9\n",
      "27994    7\n",
      "27995    9\n",
      "27996    7\n",
      "27997    3\n",
      "27998    9\n",
      "27999    2\n",
      "Name: Label, Length: 28000, dtype: int64\n"
     ]
    }
   ],
   "source": [
    "print(results)"
   ]
  },
  {
   "cell_type": "code",
   "execution_count": 71,
   "metadata": {},
   "outputs": [],
   "source": [
    "submission=pd.concat([pd.Series(range(1,28001),name='ImageID'),results],axis=1)\n",
    "submission.to_csv(\"KerasCNNdatagen.csv\",index=False)"
   ]
  }
 ],
 "metadata": {
  "kernelspec": {
   "display_name": "Python 3",
   "language": "python",
   "name": "python3"
  },
  "language_info": {
   "codemirror_mode": {
    "name": "ipython",
    "version": 3
   },
   "file_extension": ".py",
   "mimetype": "text/x-python",
   "name": "python",
   "nbconvert_exporter": "python",
   "pygments_lexer": "ipython3",
   "version": "3.7.1"
  }
 },
 "nbformat": 4,
 "nbformat_minor": 2
}
